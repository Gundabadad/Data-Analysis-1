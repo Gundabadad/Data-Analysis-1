{
 "cells": [
  {
   "cell_type": "markdown",
   "id": "3f1fe6ab-0315-4b72-b19f-c9730ffcf1b7",
   "metadata": {},
   "source": [
    "Importing the necessary library."
   ]
  },
  {
   "cell_type": "code",
   "execution_count": 1,
   "id": "a7f3c6cb-d342-4e04-a836-6073d55ea343",
   "metadata": {},
   "outputs": [],
   "source": [
    "import pandas as pd\n",
    "df = pd.read_csv('ViewingActivity.csv')"
   ]
  },
  {
   "cell_type": "code",
   "execution_count": 2,
   "id": "d46c38e1-2acb-42fa-af58-95c817216c46",
   "metadata": {},
   "outputs": [
    {
     "data": {
      "text/plain": [
       "(167, 10)"
      ]
     },
     "execution_count": 2,
     "metadata": {},
     "output_type": "execute_result"
    }
   ],
   "source": [
    "df.shape"
   ]
  },
  {
   "cell_type": "markdown",
   "id": "6a267385-0d06-44ff-b95a-51490da76c6b",
   "metadata": {},
   "source": [
    "Checking the first 10 entries of the dataframe."
   ]
  },
  {
   "cell_type": "code",
   "execution_count": 3,
   "id": "a2b09640-68b5-4fa5-b66b-1036a394d9d3",
   "metadata": {},
   "outputs": [
    {
     "data": {
      "text/html": [
       "<div>\n",
       "<style scoped>\n",
       "    .dataframe tbody tr th:only-of-type {\n",
       "        vertical-align: middle;\n",
       "    }\n",
       "\n",
       "    .dataframe tbody tr th {\n",
       "        vertical-align: top;\n",
       "    }\n",
       "\n",
       "    .dataframe thead th {\n",
       "        text-align: right;\n",
       "    }\n",
       "</style>\n",
       "<table border=\"1\" class=\"dataframe\">\n",
       "  <thead>\n",
       "    <tr style=\"text-align: right;\">\n",
       "      <th></th>\n",
       "      <th>Profile Name</th>\n",
       "      <th>Start Time</th>\n",
       "      <th>Duration</th>\n",
       "      <th>Attributes</th>\n",
       "      <th>Title</th>\n",
       "      <th>Supplemental Video Type</th>\n",
       "      <th>Device Type</th>\n",
       "      <th>Bookmark</th>\n",
       "      <th>Latest Bookmark</th>\n",
       "      <th>Country</th>\n",
       "    </tr>\n",
       "  </thead>\n",
       "  <tbody>\n",
       "    <tr>\n",
       "      <th>0</th>\n",
       "      <td>Mom &amp; Dad</td>\n",
       "      <td>2022-09-27 21:16:43</td>\n",
       "      <td>00:00:13</td>\n",
       "      <td>Autoplayed: user action: None;</td>\n",
       "      <td>Die Strafe Gottes (Clip): Die Strafe Gottes</td>\n",
       "      <td>HOOK</td>\n",
       "      <td>Samsung CE 2020 Nike-L UHD TV Smart TV</td>\n",
       "      <td>00:00:13</td>\n",
       "      <td>00:00:13</td>\n",
       "      <td>DE (Germany)</td>\n",
       "    </tr>\n",
       "    <tr>\n",
       "      <th>1</th>\n",
       "      <td>Mom &amp; Dad</td>\n",
       "      <td>2022-09-27 19:00:02</td>\n",
       "      <td>02:09:10</td>\n",
       "      <td>Autoplayed: user action: User_Interaction;</td>\n",
       "      <td>A Beautiful Mind – Genie und Wahnsinn</td>\n",
       "      <td>NaN</td>\n",
       "      <td>Samsung CE 2020 Nike-L UHD TV Smart TV</td>\n",
       "      <td>02:09:11</td>\n",
       "      <td>02:09:11</td>\n",
       "      <td>DE (Germany)</td>\n",
       "    </tr>\n",
       "    <tr>\n",
       "      <th>2</th>\n",
       "      <td>Mom &amp; Dad</td>\n",
       "      <td>2022-09-27 18:58:40</td>\n",
       "      <td>00:00:06</td>\n",
       "      <td>Autoplayed: user action: None;</td>\n",
       "      <td>A Jazzman's Blues (Clip): A Jazzman's Blues</td>\n",
       "      <td>HOOK</td>\n",
       "      <td>Samsung CE 2020 Nike-L UHD TV Smart TV</td>\n",
       "      <td>00:00:06</td>\n",
       "      <td>00:00:06</td>\n",
       "      <td>DE (Germany)</td>\n",
       "    </tr>\n",
       "    <tr>\n",
       "      <th>3</th>\n",
       "      <td>Mom &amp; Dad</td>\n",
       "      <td>2022-09-26 18:35:22</td>\n",
       "      <td>01:41:17</td>\n",
       "      <td>NaN</td>\n",
       "      <td>Lou</td>\n",
       "      <td>NaN</td>\n",
       "      <td>Samsung CE 2020 Nike-L UHD TV Smart TV</td>\n",
       "      <td>01:41:19</td>\n",
       "      <td>01:41:19</td>\n",
       "      <td>DE (Germany)</td>\n",
       "    </tr>\n",
       "    <tr>\n",
       "      <th>4</th>\n",
       "      <td>Mom &amp; Dad</td>\n",
       "      <td>2022-09-26 18:35:07</td>\n",
       "      <td>00:00:13</td>\n",
       "      <td>Autoplayed: user action: None;</td>\n",
       "      <td>Lou (Clip 5): Lou</td>\n",
       "      <td>HOOK</td>\n",
       "      <td>Samsung CE 2020 Nike-L UHD TV Smart TV</td>\n",
       "      <td>00:00:13</td>\n",
       "      <td>00:00:13</td>\n",
       "      <td>DE (Germany)</td>\n",
       "    </tr>\n",
       "  </tbody>\n",
       "</table>\n",
       "</div>"
      ],
      "text/plain": [
       "  Profile Name           Start Time  Duration  \\\n",
       "0    Mom & Dad  2022-09-27 21:16:43  00:00:13   \n",
       "1    Mom & Dad  2022-09-27 19:00:02  02:09:10   \n",
       "2    Mom & Dad  2022-09-27 18:58:40  00:00:06   \n",
       "3    Mom & Dad  2022-09-26 18:35:22  01:41:17   \n",
       "4    Mom & Dad  2022-09-26 18:35:07  00:00:13   \n",
       "\n",
       "                                    Attributes  \\\n",
       "0              Autoplayed: user action: None;    \n",
       "1  Autoplayed: user action: User_Interaction;    \n",
       "2              Autoplayed: user action: None;    \n",
       "3                                          NaN   \n",
       "4              Autoplayed: user action: None;    \n",
       "\n",
       "                                         Title Supplemental Video Type  \\\n",
       "0  Die Strafe Gottes (Clip): Die Strafe Gottes                    HOOK   \n",
       "1        A Beautiful Mind – Genie und Wahnsinn                     NaN   \n",
       "2  A Jazzman's Blues (Clip): A Jazzman's Blues                    HOOK   \n",
       "3                                          Lou                     NaN   \n",
       "4                            Lou (Clip 5): Lou                    HOOK   \n",
       "\n",
       "                              Device Type  Bookmark Latest Bookmark  \\\n",
       "0  Samsung CE 2020 Nike-L UHD TV Smart TV  00:00:13        00:00:13   \n",
       "1  Samsung CE 2020 Nike-L UHD TV Smart TV  02:09:11        02:09:11   \n",
       "2  Samsung CE 2020 Nike-L UHD TV Smart TV  00:00:06        00:00:06   \n",
       "3  Samsung CE 2020 Nike-L UHD TV Smart TV  01:41:19        01:41:19   \n",
       "4  Samsung CE 2020 Nike-L UHD TV Smart TV  00:00:13        00:00:13   \n",
       "\n",
       "        Country  \n",
       "0  DE (Germany)  \n",
       "1  DE (Germany)  \n",
       "2  DE (Germany)  \n",
       "3  DE (Germany)  \n",
       "4  DE (Germany)  "
      ]
     },
     "execution_count": 3,
     "metadata": {},
     "output_type": "execute_result"
    }
   ],
   "source": [
    "df.head()"
   ]
  },
  {
   "cell_type": "markdown",
   "id": "7d1ea273-4f6c-41d0-9e9e-a1f4e34109b8",
   "metadata": {},
   "source": [
    "Cheching 10 random entries."
   ]
  },
  {
   "cell_type": "code",
   "execution_count": 4,
   "id": "81accc7c-68c9-4318-8817-d118b59c5fd2",
   "metadata": {},
   "outputs": [
    {
     "data": {
      "text/html": [
       "<div>\n",
       "<style scoped>\n",
       "    .dataframe tbody tr th:only-of-type {\n",
       "        vertical-align: middle;\n",
       "    }\n",
       "\n",
       "    .dataframe tbody tr th {\n",
       "        vertical-align: top;\n",
       "    }\n",
       "\n",
       "    .dataframe thead th {\n",
       "        text-align: right;\n",
       "    }\n",
       "</style>\n",
       "<table border=\"1\" class=\"dataframe\">\n",
       "  <thead>\n",
       "    <tr style=\"text-align: right;\">\n",
       "      <th></th>\n",
       "      <th>Profile Name</th>\n",
       "      <th>Start Time</th>\n",
       "      <th>Duration</th>\n",
       "      <th>Attributes</th>\n",
       "      <th>Title</th>\n",
       "      <th>Supplemental Video Type</th>\n",
       "      <th>Device Type</th>\n",
       "      <th>Bookmark</th>\n",
       "      <th>Latest Bookmark</th>\n",
       "      <th>Country</th>\n",
       "    </tr>\n",
       "  </thead>\n",
       "  <tbody>\n",
       "    <tr>\n",
       "      <th>44</th>\n",
       "      <td>Code &amp; Dogs</td>\n",
       "      <td>2022-09-12 16:30:52</td>\n",
       "      <td>00:31:59</td>\n",
       "      <td>NaN</td>\n",
       "      <td>Stranger Things: Stranger Things 4: Kapitel ac...</td>\n",
       "      <td>NaN</td>\n",
       "      <td>Apple iPad Pro 12.9 in 5th Gen (Wi-Fi/Cell) iPad</td>\n",
       "      <td>00:32:47</td>\n",
       "      <td>00:32:47</td>\n",
       "      <td>DE (Germany)</td>\n",
       "    </tr>\n",
       "    <tr>\n",
       "      <th>64</th>\n",
       "      <td>Code &amp; Dogs</td>\n",
       "      <td>2022-08-21 13:56:55</td>\n",
       "      <td>00:00:14</td>\n",
       "      <td>Autoplayed: user action: None;</td>\n",
       "      <td>Was Katzen denken (Clip): Was Katzen denken</td>\n",
       "      <td>HOOK</td>\n",
       "      <td>FireTV 4K Stick 2018</td>\n",
       "      <td>00:00:14</td>\n",
       "      <td>00:00:14</td>\n",
       "      <td>DE (Germany)</td>\n",
       "    </tr>\n",
       "    <tr>\n",
       "      <th>6</th>\n",
       "      <td>Mom &amp; Dad</td>\n",
       "      <td>2022-09-26 17:32:49</td>\n",
       "      <td>00:00:14</td>\n",
       "      <td>Autoplayed: user action: None;</td>\n",
       "      <td>Lost Girls PVS Clip 4</td>\n",
       "      <td>HOOK</td>\n",
       "      <td>FireTV 4K Stick 2018</td>\n",
       "      <td>00:00:14</td>\n",
       "      <td>00:00:14</td>\n",
       "      <td>DE (Germany)</td>\n",
       "    </tr>\n",
       "    <tr>\n",
       "      <th>123</th>\n",
       "      <td>Brother &amp; Wife</td>\n",
       "      <td>2022-02-05 16:39:43</td>\n",
       "      <td>00:07:28</td>\n",
       "      <td>NaN</td>\n",
       "      <td>All of Us Are Dead: Staffel 1: Folge 8 (Folge 8)</td>\n",
       "      <td>NaN</td>\n",
       "      <td>Samsung CE 2019 Muse-L UHD TV Smart TV</td>\n",
       "      <td>00:07:40</td>\n",
       "      <td>Not latest view</td>\n",
       "      <td>DE (Germany)</td>\n",
       "    </tr>\n",
       "    <tr>\n",
       "      <th>102</th>\n",
       "      <td>Kids</td>\n",
       "      <td>2021-08-22 12:46:18</td>\n",
       "      <td>00:18:54</td>\n",
       "      <td>Autoplayed: user action: User_Interaction;</td>\n",
       "      <td>Dinotrux: Staffel 1: Schrottdactylus (Folge 2)</td>\n",
       "      <td>NaN</td>\n",
       "      <td>Sony CE Sony Android TV 2020 M5 Smart TV</td>\n",
       "      <td>00:18:54</td>\n",
       "      <td>Not latest view</td>\n",
       "      <td>DE (Germany)</td>\n",
       "    </tr>\n",
       "    <tr>\n",
       "      <th>35</th>\n",
       "      <td>Friends</td>\n",
       "      <td>2020-08-06 09:52:09</td>\n",
       "      <td>00:00:11</td>\n",
       "      <td>Autoplayed: user action: Unspecified;</td>\n",
       "      <td>The Umbrella Academy: Staffel 1: Wir sehen uns...</td>\n",
       "      <td>NaN</td>\n",
       "      <td>Sony Sony Android TV 2018 M2 4K Smart TV</td>\n",
       "      <td>00:00:11</td>\n",
       "      <td>00:00:11</td>\n",
       "      <td>DE (Germany)</td>\n",
       "    </tr>\n",
       "    <tr>\n",
       "      <th>5</th>\n",
       "      <td>Mom &amp; Dad</td>\n",
       "      <td>2022-09-26 17:33:25</td>\n",
       "      <td>00:00:08</td>\n",
       "      <td>Autoplayed: user action: None;</td>\n",
       "      <td>1939_hook_primary_16x9</td>\n",
       "      <td>HOOK</td>\n",
       "      <td>FireTV 4K Stick 2018</td>\n",
       "      <td>00:00:08</td>\n",
       "      <td>00:00:08</td>\n",
       "      <td>DE (Germany)</td>\n",
       "    </tr>\n",
       "    <tr>\n",
       "      <th>91</th>\n",
       "      <td>Kids</td>\n",
       "      <td>2021-08-27 15:46:28</td>\n",
       "      <td>00:12:38</td>\n",
       "      <td>NaN</td>\n",
       "      <td>DreamWorks Dragons: Auf zu neuen Ufern: Staffe...</td>\n",
       "      <td>NaN</td>\n",
       "      <td>Sony Sony Android TV 2015 Smart TV</td>\n",
       "      <td>00:22:15</td>\n",
       "      <td>Not latest view</td>\n",
       "      <td>DE (Germany)</td>\n",
       "    </tr>\n",
       "    <tr>\n",
       "      <th>85</th>\n",
       "      <td>Kids</td>\n",
       "      <td>2021-08-27 16:35:23</td>\n",
       "      <td>00:00:21</td>\n",
       "      <td>NaN</td>\n",
       "      <td>DreamWorks Dragons: Auf zu neuen Ufern: Staffe...</td>\n",
       "      <td>NaN</td>\n",
       "      <td>Sony Sony Android TV 2015 Smart TV</td>\n",
       "      <td>00:00:03</td>\n",
       "      <td>Not latest view</td>\n",
       "      <td>DE (Germany)</td>\n",
       "    </tr>\n",
       "    <tr>\n",
       "      <th>150</th>\n",
       "      <td>Brother &amp; Wife</td>\n",
       "      <td>2022-02-01 11:03:30</td>\n",
       "      <td>00:00:09</td>\n",
       "      <td>Autoplayed: user action: None;</td>\n",
       "      <td>Staffel 2 (Teaser 3): The Witcher</td>\n",
       "      <td>TEASER_TRAILER</td>\n",
       "      <td>Samsung CE 2019 Muse-L UHD TV Smart TV</td>\n",
       "      <td>00:00:09</td>\n",
       "      <td>00:00:09</td>\n",
       "      <td>DE (Germany)</td>\n",
       "    </tr>\n",
       "  </tbody>\n",
       "</table>\n",
       "</div>"
      ],
      "text/plain": [
       "       Profile Name           Start Time  Duration  \\\n",
       "44      Code & Dogs  2022-09-12 16:30:52  00:31:59   \n",
       "64      Code & Dogs  2022-08-21 13:56:55  00:00:14   \n",
       "6         Mom & Dad  2022-09-26 17:32:49  00:00:14   \n",
       "123  Brother & Wife  2022-02-05 16:39:43  00:07:28   \n",
       "102            Kids  2021-08-22 12:46:18  00:18:54   \n",
       "35          Friends  2020-08-06 09:52:09  00:00:11   \n",
       "5         Mom & Dad  2022-09-26 17:33:25  00:00:08   \n",
       "91             Kids  2021-08-27 15:46:28  00:12:38   \n",
       "85             Kids  2021-08-27 16:35:23  00:00:21   \n",
       "150  Brother & Wife  2022-02-01 11:03:30  00:00:09   \n",
       "\n",
       "                                      Attributes  \\\n",
       "44                                           NaN   \n",
       "64               Autoplayed: user action: None;    \n",
       "6                Autoplayed: user action: None;    \n",
       "123                                          NaN   \n",
       "102  Autoplayed: user action: User_Interaction;    \n",
       "35        Autoplayed: user action: Unspecified;    \n",
       "5                Autoplayed: user action: None;    \n",
       "91                                           NaN   \n",
       "85                                           NaN   \n",
       "150              Autoplayed: user action: None;    \n",
       "\n",
       "                                                 Title  \\\n",
       "44   Stranger Things: Stranger Things 4: Kapitel ac...   \n",
       "64         Was Katzen denken (Clip): Was Katzen denken   \n",
       "6                                Lost Girls PVS Clip 4   \n",
       "123   All of Us Are Dead: Staffel 1: Folge 8 (Folge 8)   \n",
       "102     Dinotrux: Staffel 1: Schrottdactylus (Folge 2)   \n",
       "35   The Umbrella Academy: Staffel 1: Wir sehen uns...   \n",
       "5                               1939_hook_primary_16x9   \n",
       "91   DreamWorks Dragons: Auf zu neuen Ufern: Staffe...   \n",
       "85   DreamWorks Dragons: Auf zu neuen Ufern: Staffe...   \n",
       "150                  Staffel 2 (Teaser 3): The Witcher   \n",
       "\n",
       "    Supplemental Video Type                                       Device Type  \\\n",
       "44                      NaN  Apple iPad Pro 12.9 in 5th Gen (Wi-Fi/Cell) iPad   \n",
       "64                     HOOK                              FireTV 4K Stick 2018   \n",
       "6                      HOOK                              FireTV 4K Stick 2018   \n",
       "123                     NaN            Samsung CE 2019 Muse-L UHD TV Smart TV   \n",
       "102                     NaN          Sony CE Sony Android TV 2020 M5 Smart TV   \n",
       "35                      NaN          Sony Sony Android TV 2018 M2 4K Smart TV   \n",
       "5                      HOOK                              FireTV 4K Stick 2018   \n",
       "91                      NaN                Sony Sony Android TV 2015 Smart TV   \n",
       "85                      NaN                Sony Sony Android TV 2015 Smart TV   \n",
       "150          TEASER_TRAILER            Samsung CE 2019 Muse-L UHD TV Smart TV   \n",
       "\n",
       "     Bookmark  Latest Bookmark       Country  \n",
       "44   00:32:47         00:32:47  DE (Germany)  \n",
       "64   00:00:14         00:00:14  DE (Germany)  \n",
       "6    00:00:14         00:00:14  DE (Germany)  \n",
       "123  00:07:40  Not latest view  DE (Germany)  \n",
       "102  00:18:54  Not latest view  DE (Germany)  \n",
       "35   00:00:11         00:00:11  DE (Germany)  \n",
       "5    00:00:08         00:00:08  DE (Germany)  \n",
       "91   00:22:15  Not latest view  DE (Germany)  \n",
       "85   00:00:03  Not latest view  DE (Germany)  \n",
       "150  00:00:09         00:00:09  DE (Germany)  "
      ]
     },
     "execution_count": 4,
     "metadata": {},
     "output_type": "execute_result"
    }
   ],
   "source": [
    "df.sample(n=10)"
   ]
  },
  {
   "cell_type": "markdown",
   "id": "2e991cca-1630-400c-8077-ecc2cd5ede25",
   "metadata": {},
   "source": [
    "Identifying the unique profile names."
   ]
  },
  {
   "cell_type": "code",
   "execution_count": 5,
   "id": "0684923c-213d-4b54-b49e-f763315e1f08",
   "metadata": {},
   "outputs": [
    {
     "data": {
      "text/plain": [
       "array(['Mom & Dad', 'Friends', 'Code & Dogs', 'Kids', 'Brother & Wife'],\n",
       "      dtype=object)"
      ]
     },
     "execution_count": 5,
     "metadata": {},
     "output_type": "execute_result"
    }
   ],
   "source": [
    "df[\"Profile Name\"].unique()"
   ]
  },
  {
   "cell_type": "markdown",
   "id": "22c52d21-fe60-4e06-8b81-5a2dfa1ef42e",
   "metadata": {},
   "source": [
    "Identifying the unique device types used to watch Netflix."
   ]
  },
  {
   "cell_type": "code",
   "execution_count": 6,
   "id": "564ca999-a524-4611-bba6-124d7ee71e58",
   "metadata": {},
   "outputs": [
    {
     "data": {
      "text/plain": [
       "array(['Samsung CE 2020 Nike-L UHD TV Smart TV', 'FireTV 4K Stick 2018',\n",
       "       'FireTV Stick 2016', 'Sky UK skyamidalade MVPD STB',\n",
       "       'Sky UK IP100 MVPD STB',\n",
       "       'Sony Sony Android TV 2018 M2 4K Smart TV',\n",
       "       'Apple iPad Pro 12.9 in 5th Gen (Wi-Fi/Cell) iPad',\n",
       "       'Sony Sony Android TV 2015 Smart TV',\n",
       "       'Sony CE Sony Android TV 2020 M5 Smart TV',\n",
       "       'Samsung CE 2019 Muse-L UHD TV Smart TV'], dtype=object)"
      ]
     },
     "execution_count": 6,
     "metadata": {},
     "output_type": "execute_result"
    }
   ],
   "source": [
    "df[\"Device Type\"].unique()"
   ]
  },
  {
   "cell_type": "markdown",
   "id": "be99c45d-3d83-4cb6-a79b-61fca69f93bd",
   "metadata": {},
   "source": [
    "Identifying the data types."
   ]
  },
  {
   "cell_type": "code",
   "execution_count": 7,
   "id": "4d41dfdd-5407-4395-9fa0-7ff07913e4ec",
   "metadata": {},
   "outputs": [
    {
     "data": {
      "text/plain": [
       "Profile Name               object\n",
       "Start Time                 object\n",
       "Duration                   object\n",
       "Attributes                 object\n",
       "Title                      object\n",
       "Supplemental Video Type    object\n",
       "Device Type                object\n",
       "Bookmark                   object\n",
       "Latest Bookmark            object\n",
       "Country                    object\n",
       "dtype: object"
      ]
     },
     "execution_count": 7,
     "metadata": {},
     "output_type": "execute_result"
    }
   ],
   "source": [
    "df.dtypes"
   ]
  },
  {
   "cell_type": "markdown",
   "id": "21b2ddcb-6313-49fc-b016-df9400299ff6",
   "metadata": {},
   "source": [
    "Converting the start time and duration into a usable format."
   ]
  },
  {
   "cell_type": "code",
   "execution_count": 8,
   "id": "5a6bc4a0-a890-4a48-8fd6-cdf4e7395e16",
   "metadata": {},
   "outputs": [
    {
     "data": {
      "text/plain": [
       "Profile Name                            object\n",
       "Start Time                 datetime64[ns, UTC]\n",
       "Duration                       timedelta64[ns]\n",
       "Attributes                              object\n",
       "Title                                   object\n",
       "Supplemental Video Type                 object\n",
       "Device Type                             object\n",
       "Bookmark                                object\n",
       "Latest Bookmark                         object\n",
       "Country                                 object\n",
       "dtype: object"
      ]
     },
     "execution_count": 8,
     "metadata": {},
     "output_type": "execute_result"
    }
   ],
   "source": [
    "df['Start Time'] = pd.to_datetime(df['Start Time'], utc=True)\n",
    "df['Duration'] = pd.to_timedelta(df['Duration'])\n",
    "df.dtypes"
   ]
  },
  {
   "cell_type": "code",
   "execution_count": 9,
   "id": "6c86b85d-e6b5-4831-a8d4-b4003633a63a",
   "metadata": {},
   "outputs": [
    {
     "data": {
      "text/html": [
       "<div>\n",
       "<style scoped>\n",
       "    .dataframe tbody tr th:only-of-type {\n",
       "        vertical-align: middle;\n",
       "    }\n",
       "\n",
       "    .dataframe tbody tr th {\n",
       "        vertical-align: top;\n",
       "    }\n",
       "\n",
       "    .dataframe thead th {\n",
       "        text-align: right;\n",
       "    }\n",
       "</style>\n",
       "<table border=\"1\" class=\"dataframe\">\n",
       "  <thead>\n",
       "    <tr style=\"text-align: right;\">\n",
       "      <th></th>\n",
       "      <th>Profile Name</th>\n",
       "      <th>Start Time</th>\n",
       "      <th>Duration</th>\n",
       "      <th>Attributes</th>\n",
       "      <th>Title</th>\n",
       "      <th>Supplemental Video Type</th>\n",
       "      <th>Device Type</th>\n",
       "      <th>Bookmark</th>\n",
       "      <th>Latest Bookmark</th>\n",
       "      <th>Country</th>\n",
       "    </tr>\n",
       "  </thead>\n",
       "  <tbody>\n",
       "    <tr>\n",
       "      <th>45</th>\n",
       "      <td>Code &amp; Dogs</td>\n",
       "      <td>2022-09-11 11:37:51+00:00</td>\n",
       "      <td>0 days 00:14:09</td>\n",
       "      <td>NaN</td>\n",
       "      <td>Stranger Things: Stranger Things 4: Kapitel si...</td>\n",
       "      <td>NaN</td>\n",
       "      <td>Apple iPad Pro 12.9 in 5th Gen (Wi-Fi/Cell) iPad</td>\n",
       "      <td>00:14:10</td>\n",
       "      <td>00:14:10</td>\n",
       "      <td>DE (Germany)</td>\n",
       "    </tr>\n",
       "    <tr>\n",
       "      <th>160</th>\n",
       "      <td>Brother &amp; Wife</td>\n",
       "      <td>2022-01-28 13:53:12+00:00</td>\n",
       "      <td>0 days 00:35:02</td>\n",
       "      <td>NaN</td>\n",
       "      <td>The Witcher: Staffel 1: Viel mehr (Folge 8)</td>\n",
       "      <td>NaN</td>\n",
       "      <td>Samsung CE 2019 Muse-L UHD TV Smart TV</td>\n",
       "      <td>00:48:45</td>\n",
       "      <td>Not latest view</td>\n",
       "      <td>DE (Germany)</td>\n",
       "    </tr>\n",
       "    <tr>\n",
       "      <th>161</th>\n",
       "      <td>Brother &amp; Wife</td>\n",
       "      <td>2022-01-28 11:43:53+00:00</td>\n",
       "      <td>0 days 00:13:35</td>\n",
       "      <td>Autoplayed: user action: User_Interaction;</td>\n",
       "      <td>The Witcher: Staffel 1: Viel mehr (Folge 8)</td>\n",
       "      <td>NaN</td>\n",
       "      <td>Samsung CE 2019 Muse-L UHD TV Smart TV</td>\n",
       "      <td>00:13:42</td>\n",
       "      <td>Not latest view</td>\n",
       "      <td>DE (Germany)</td>\n",
       "    </tr>\n",
       "    <tr>\n",
       "      <th>4</th>\n",
       "      <td>Mom &amp; Dad</td>\n",
       "      <td>2022-09-26 18:35:07+00:00</td>\n",
       "      <td>0 days 00:00:13</td>\n",
       "      <td>Autoplayed: user action: None;</td>\n",
       "      <td>Lou (Clip 5): Lou</td>\n",
       "      <td>HOOK</td>\n",
       "      <td>Samsung CE 2020 Nike-L UHD TV Smart TV</td>\n",
       "      <td>00:00:13</td>\n",
       "      <td>00:00:13</td>\n",
       "      <td>DE (Germany)</td>\n",
       "    </tr>\n",
       "    <tr>\n",
       "      <th>85</th>\n",
       "      <td>Kids</td>\n",
       "      <td>2021-08-27 16:35:23+00:00</td>\n",
       "      <td>0 days 00:00:21</td>\n",
       "      <td>NaN</td>\n",
       "      <td>DreamWorks Dragons: Auf zu neuen Ufern: Staffe...</td>\n",
       "      <td>NaN</td>\n",
       "      <td>Sony Sony Android TV 2015 Smart TV</td>\n",
       "      <td>00:00:03</td>\n",
       "      <td>Not latest view</td>\n",
       "      <td>DE (Germany)</td>\n",
       "    </tr>\n",
       "    <tr>\n",
       "      <th>19</th>\n",
       "      <td>Friends</td>\n",
       "      <td>2022-04-17 20:05:46+00:00</td>\n",
       "      <td>0 days 00:00:05</td>\n",
       "      <td>Autoplayed: user action: None;</td>\n",
       "      <td>Dinotrux: Season 1_hook_primary_16x9</td>\n",
       "      <td>HOOK</td>\n",
       "      <td>FireTV Stick 2016</td>\n",
       "      <td>00:00:05</td>\n",
       "      <td>00:00:05</td>\n",
       "      <td>DE (Germany)</td>\n",
       "    </tr>\n",
       "    <tr>\n",
       "      <th>22</th>\n",
       "      <td>Friends</td>\n",
       "      <td>2022-02-24 20:15:57+00:00</td>\n",
       "      <td>0 days 00:39:12</td>\n",
       "      <td>NaN</td>\n",
       "      <td>Kitz: Season 1: Mausefalle (Folge 2)</td>\n",
       "      <td>NaN</td>\n",
       "      <td>Sky UK IP100 MVPD STB</td>\n",
       "      <td>00:39:17</td>\n",
       "      <td>00:39:17</td>\n",
       "      <td>DE (Germany)</td>\n",
       "    </tr>\n",
       "    <tr>\n",
       "      <th>52</th>\n",
       "      <td>Code &amp; Dogs</td>\n",
       "      <td>2022-08-27 08:36:41+00:00</td>\n",
       "      <td>0 days 01:21:09</td>\n",
       "      <td>NaN</td>\n",
       "      <td>Mysterium Marilyn Monroe: Die ungehörten Bänder</td>\n",
       "      <td>NaN</td>\n",
       "      <td>Apple iPad Pro 12.9 in 5th Gen (Wi-Fi/Cell) iPad</td>\n",
       "      <td>01:21:10</td>\n",
       "      <td>01:21:10</td>\n",
       "      <td>DE (Germany)</td>\n",
       "    </tr>\n",
       "    <tr>\n",
       "      <th>10</th>\n",
       "      <td>Mom &amp; Dad</td>\n",
       "      <td>2022-09-26 17:31:57+00:00</td>\n",
       "      <td>0 days 00:00:06</td>\n",
       "      <td>Autoplayed: user action: None;</td>\n",
       "      <td>Beasts of No Nation (Trailer)</td>\n",
       "      <td>TRAILER</td>\n",
       "      <td>FireTV 4K Stick 2018</td>\n",
       "      <td>00:00:07</td>\n",
       "      <td>00:00:07</td>\n",
       "      <td>DE (Germany)</td>\n",
       "    </tr>\n",
       "    <tr>\n",
       "      <th>82</th>\n",
       "      <td>Kids</td>\n",
       "      <td>2021-08-28 16:27:19+00:00</td>\n",
       "      <td>0 days 00:22:28</td>\n",
       "      <td>NaN</td>\n",
       "      <td>DreamWorks Dragons: Auf zu neuen Ufern: Staffe...</td>\n",
       "      <td>NaN</td>\n",
       "      <td>Sony Sony Android TV 2015 Smart TV</td>\n",
       "      <td>00:22:29</td>\n",
       "      <td>Not latest view</td>\n",
       "      <td>DE (Germany)</td>\n",
       "    </tr>\n",
       "  </tbody>\n",
       "</table>\n",
       "</div>"
      ],
      "text/plain": [
       "       Profile Name                Start Time        Duration  \\\n",
       "45      Code & Dogs 2022-09-11 11:37:51+00:00 0 days 00:14:09   \n",
       "160  Brother & Wife 2022-01-28 13:53:12+00:00 0 days 00:35:02   \n",
       "161  Brother & Wife 2022-01-28 11:43:53+00:00 0 days 00:13:35   \n",
       "4         Mom & Dad 2022-09-26 18:35:07+00:00 0 days 00:00:13   \n",
       "85             Kids 2021-08-27 16:35:23+00:00 0 days 00:00:21   \n",
       "19          Friends 2022-04-17 20:05:46+00:00 0 days 00:00:05   \n",
       "22          Friends 2022-02-24 20:15:57+00:00 0 days 00:39:12   \n",
       "52      Code & Dogs 2022-08-27 08:36:41+00:00 0 days 01:21:09   \n",
       "10        Mom & Dad 2022-09-26 17:31:57+00:00 0 days 00:00:06   \n",
       "82             Kids 2021-08-28 16:27:19+00:00 0 days 00:22:28   \n",
       "\n",
       "                                      Attributes  \\\n",
       "45                                           NaN   \n",
       "160                                          NaN   \n",
       "161  Autoplayed: user action: User_Interaction;    \n",
       "4                Autoplayed: user action: None;    \n",
       "85                                           NaN   \n",
       "19               Autoplayed: user action: None;    \n",
       "22                                           NaN   \n",
       "52                                           NaN   \n",
       "10               Autoplayed: user action: None;    \n",
       "82                                           NaN   \n",
       "\n",
       "                                                 Title  \\\n",
       "45   Stranger Things: Stranger Things 4: Kapitel si...   \n",
       "160        The Witcher: Staffel 1: Viel mehr (Folge 8)   \n",
       "161        The Witcher: Staffel 1: Viel mehr (Folge 8)   \n",
       "4                                    Lou (Clip 5): Lou   \n",
       "85   DreamWorks Dragons: Auf zu neuen Ufern: Staffe...   \n",
       "19                Dinotrux: Season 1_hook_primary_16x9   \n",
       "22                Kitz: Season 1: Mausefalle (Folge 2)   \n",
       "52     Mysterium Marilyn Monroe: Die ungehörten Bänder   \n",
       "10                       Beasts of No Nation (Trailer)   \n",
       "82   DreamWorks Dragons: Auf zu neuen Ufern: Staffe...   \n",
       "\n",
       "    Supplemental Video Type                                       Device Type  \\\n",
       "45                      NaN  Apple iPad Pro 12.9 in 5th Gen (Wi-Fi/Cell) iPad   \n",
       "160                     NaN            Samsung CE 2019 Muse-L UHD TV Smart TV   \n",
       "161                     NaN            Samsung CE 2019 Muse-L UHD TV Smart TV   \n",
       "4                      HOOK            Samsung CE 2020 Nike-L UHD TV Smart TV   \n",
       "85                      NaN                Sony Sony Android TV 2015 Smart TV   \n",
       "19                     HOOK                                 FireTV Stick 2016   \n",
       "22                      NaN                             Sky UK IP100 MVPD STB   \n",
       "52                      NaN  Apple iPad Pro 12.9 in 5th Gen (Wi-Fi/Cell) iPad   \n",
       "10                  TRAILER                              FireTV 4K Stick 2018   \n",
       "82                      NaN                Sony Sony Android TV 2015 Smart TV   \n",
       "\n",
       "     Bookmark  Latest Bookmark       Country  \n",
       "45   00:14:10         00:14:10  DE (Germany)  \n",
       "160  00:48:45  Not latest view  DE (Germany)  \n",
       "161  00:13:42  Not latest view  DE (Germany)  \n",
       "4    00:00:13         00:00:13  DE (Germany)  \n",
       "85   00:00:03  Not latest view  DE (Germany)  \n",
       "19   00:00:05         00:00:05  DE (Germany)  \n",
       "22   00:39:17         00:39:17  DE (Germany)  \n",
       "52   01:21:10         01:21:10  DE (Germany)  \n",
       "10   00:00:07         00:00:07  DE (Germany)  \n",
       "82   00:22:29  Not latest view  DE (Germany)  "
      ]
     },
     "execution_count": 9,
     "metadata": {},
     "output_type": "execute_result"
    }
   ],
   "source": [
    "df.sample(n=10)"
   ]
  },
  {
   "cell_type": "markdown",
   "id": "7c425898-20b2-499d-acbb-0e71c4ebbf59",
   "metadata": {},
   "source": [
    "Checking the number of entries for each profile name."
   ]
  },
  {
   "cell_type": "code",
   "execution_count": 10,
   "id": "135ffba6-b3c0-4ef4-948a-4b559d3ee3cb",
   "metadata": {},
   "outputs": [
    {
     "data": {
      "text/plain": [
       "Profile Name\n",
       "Brother & Wife    55\n",
       "Code & Dogs       40\n",
       "Kids              31\n",
       "Friends           22\n",
       "Mom & Dad         19\n",
       "Name: count, dtype: int64"
      ]
     },
     "execution_count": 10,
     "metadata": {},
     "output_type": "execute_result"
    }
   ],
   "source": [
    "df['Profile Name'].value_counts()"
   ]
  },
  {
   "cell_type": "markdown",
   "id": "4940f3c8-d3b5-4eca-ac4b-2e7bde6af003",
   "metadata": {},
   "source": [
    "Importing the necessary library for plotting the value counts. Plotting the values in a bar chart."
   ]
  },
  {
   "cell_type": "code",
   "execution_count": 11,
   "id": "280d4ed1-91ef-4c03-b251-320aceb53054",
   "metadata": {},
   "outputs": [
    {
     "data": {
      "image/png": "[encoded data removed]",
      "text/plain": [
       "<Figure size 640x480 with 1 Axes>"
      ]
     },
     "metadata": {},
     "output_type": "display_data"
    }
   ],
   "source": [
    "%matplotlib inline\n",
    "import matplotlib\n",
    "import matplotlib.pyplot as plt\n",
    "df['Profile Name'].value_counts().plot(kind='bar')\n",
    "plt.show()"
   ]
  },
  {
   "cell_type": "markdown",
   "id": "0272910c-6512-44a7-8178-81d25567d92b",
   "metadata": {},
   "source": [
    "Checking the total watch time across all the profile names."
   ]
  },
  {
   "cell_type": "code",
   "execution_count": 12,
   "id": "9cd9e562-e106-4c6f-8d71-503ffbda1ce0",
   "metadata": {},
   "outputs": [
    {
     "data": {
      "text/plain": [
       "Timedelta('2 days 06:16:44')"
      ]
     },
     "execution_count": 12,
     "metadata": {},
     "output_type": "execute_result"
    }
   ],
   "source": [
    "df['Duration'].sum()"
   ]
  },
  {
   "cell_type": "code",
   "execution_count": 13,
   "id": "a6ada8e9-a7db-4655-9d5e-65103090d171",
   "metadata": {},
   "outputs": [
    {
     "data": {
      "text/html": [
       "<div>\n",
       "<style scoped>\n",
       "    .dataframe tbody tr th:only-of-type {\n",
       "        vertical-align: middle;\n",
       "    }\n",
       "\n",
       "    .dataframe tbody tr th {\n",
       "        vertical-align: top;\n",
       "    }\n",
       "\n",
       "    .dataframe thead th {\n",
       "        text-align: right;\n",
       "    }\n",
       "</style>\n",
       "<table border=\"1\" class=\"dataframe\">\n",
       "  <thead>\n",
       "    <tr style=\"text-align: right;\">\n",
       "      <th></th>\n",
       "      <th>Profile Name</th>\n",
       "      <th>Start Time</th>\n",
       "      <th>Duration</th>\n",
       "      <th>Attributes</th>\n",
       "      <th>Title</th>\n",
       "      <th>Supplemental Video Type</th>\n",
       "      <th>Device Type</th>\n",
       "      <th>Bookmark</th>\n",
       "      <th>Latest Bookmark</th>\n",
       "      <th>Country</th>\n",
       "    </tr>\n",
       "  </thead>\n",
       "  <tbody>\n",
       "    <tr>\n",
       "      <th>40</th>\n",
       "      <td>Friends</td>\n",
       "      <td>2020-06-06 18:27:04+00:00</td>\n",
       "      <td>0 days 00:46:51</td>\n",
       "      <td>Autoplayed: user action: Unspecified;</td>\n",
       "      <td>Haus des Geldes: Teil 1: Folge 1 (Folge 1)</td>\n",
       "      <td>NaN</td>\n",
       "      <td>Sony Sony Android TV 2018 M2 4K Smart TV</td>\n",
       "      <td>00:46:51</td>\n",
       "      <td>00:46:51</td>\n",
       "      <td>DE (Germany)</td>\n",
       "    </tr>\n",
       "    <tr>\n",
       "      <th>39</th>\n",
       "      <td>Friends</td>\n",
       "      <td>2020-06-06 19:13:59+00:00</td>\n",
       "      <td>0 days 00:39:21</td>\n",
       "      <td>Autoplayed: user action: None;</td>\n",
       "      <td>Haus des Geldes: Teil 1: Folge 2 (Folge 2)</td>\n",
       "      <td>NaN</td>\n",
       "      <td>Sony Sony Android TV 2018 M2 4K Smart TV</td>\n",
       "      <td>00:40:37</td>\n",
       "      <td>00:40:37</td>\n",
       "      <td>DE (Germany)</td>\n",
       "    </tr>\n",
       "    <tr>\n",
       "      <th>38</th>\n",
       "      <td>Friends</td>\n",
       "      <td>2020-06-08 18:00:17+00:00</td>\n",
       "      <td>0 days 00:49:11</td>\n",
       "      <td>Autoplayed: user action: Unspecified;</td>\n",
       "      <td>Haus des Geldes: Teil 1: Folge 3 (Folge 3)</td>\n",
       "      <td>NaN</td>\n",
       "      <td>Sony Sony Android TV 2018 M2 4K Smart TV</td>\n",
       "      <td>00:50:00</td>\n",
       "      <td>00:50:00</td>\n",
       "      <td>DE (Germany)</td>\n",
       "    </tr>\n",
       "    <tr>\n",
       "      <th>37</th>\n",
       "      <td>Friends</td>\n",
       "      <td>2020-06-08 18:49:32+00:00</td>\n",
       "      <td>0 days 00:49:51</td>\n",
       "      <td>Autoplayed: user action: Unspecified;</td>\n",
       "      <td>Haus des Geldes: Teil 1: Folge 4 (Folge 4)</td>\n",
       "      <td>NaN</td>\n",
       "      <td>Sony Sony Android TV 2018 M2 4K Smart TV</td>\n",
       "      <td>00:50:45</td>\n",
       "      <td>00:50:45</td>\n",
       "      <td>DE (Germany)</td>\n",
       "    </tr>\n",
       "    <tr>\n",
       "      <th>36</th>\n",
       "      <td>Friends</td>\n",
       "      <td>2020-06-08 19:39:27+00:00</td>\n",
       "      <td>0 days 00:00:04</td>\n",
       "      <td>Autoplayed: user action: None;</td>\n",
       "      <td>Haus des Geldes: Teil 1: Folge 5 (Folge 5)</td>\n",
       "      <td>NaN</td>\n",
       "      <td>Sony Sony Android TV 2018 M2 4K Smart TV</td>\n",
       "      <td>00:00:10</td>\n",
       "      <td>00:00:10</td>\n",
       "      <td>DE (Germany)</td>\n",
       "    </tr>\n",
       "    <tr>\n",
       "      <th>...</th>\n",
       "      <td>...</td>\n",
       "      <td>...</td>\n",
       "      <td>...</td>\n",
       "      <td>...</td>\n",
       "      <td>...</td>\n",
       "      <td>...</td>\n",
       "      <td>...</td>\n",
       "      <td>...</td>\n",
       "      <td>...</td>\n",
       "      <td>...</td>\n",
       "    </tr>\n",
       "    <tr>\n",
       "      <th>4</th>\n",
       "      <td>Mom &amp; Dad</td>\n",
       "      <td>2022-09-26 18:35:07+00:00</td>\n",
       "      <td>0 days 00:00:13</td>\n",
       "      <td>Autoplayed: user action: None;</td>\n",
       "      <td>Lou (Clip 5): Lou</td>\n",
       "      <td>HOOK</td>\n",
       "      <td>Samsung CE 2020 Nike-L UHD TV Smart TV</td>\n",
       "      <td>00:00:13</td>\n",
       "      <td>00:00:13</td>\n",
       "      <td>DE (Germany)</td>\n",
       "    </tr>\n",
       "    <tr>\n",
       "      <th>3</th>\n",
       "      <td>Mom &amp; Dad</td>\n",
       "      <td>2022-09-26 18:35:22+00:00</td>\n",
       "      <td>0 days 01:41:17</td>\n",
       "      <td>NaN</td>\n",
       "      <td>Lou</td>\n",
       "      <td>NaN</td>\n",
       "      <td>Samsung CE 2020 Nike-L UHD TV Smart TV</td>\n",
       "      <td>01:41:19</td>\n",
       "      <td>01:41:19</td>\n",
       "      <td>DE (Germany)</td>\n",
       "    </tr>\n",
       "    <tr>\n",
       "      <th>2</th>\n",
       "      <td>Mom &amp; Dad</td>\n",
       "      <td>2022-09-27 18:58:40+00:00</td>\n",
       "      <td>0 days 00:00:06</td>\n",
       "      <td>Autoplayed: user action: None;</td>\n",
       "      <td>A Jazzman's Blues (Clip): A Jazzman's Blues</td>\n",
       "      <td>HOOK</td>\n",
       "      <td>Samsung CE 2020 Nike-L UHD TV Smart TV</td>\n",
       "      <td>00:00:06</td>\n",
       "      <td>00:00:06</td>\n",
       "      <td>DE (Germany)</td>\n",
       "    </tr>\n",
       "    <tr>\n",
       "      <th>1</th>\n",
       "      <td>Mom &amp; Dad</td>\n",
       "      <td>2022-09-27 19:00:02+00:00</td>\n",
       "      <td>0 days 02:09:10</td>\n",
       "      <td>Autoplayed: user action: User_Interaction;</td>\n",
       "      <td>A Beautiful Mind – Genie und Wahnsinn</td>\n",
       "      <td>NaN</td>\n",
       "      <td>Samsung CE 2020 Nike-L UHD TV Smart TV</td>\n",
       "      <td>02:09:11</td>\n",
       "      <td>02:09:11</td>\n",
       "      <td>DE (Germany)</td>\n",
       "    </tr>\n",
       "    <tr>\n",
       "      <th>0</th>\n",
       "      <td>Mom &amp; Dad</td>\n",
       "      <td>2022-09-27 21:16:43+00:00</td>\n",
       "      <td>0 days 00:00:13</td>\n",
       "      <td>Autoplayed: user action: None;</td>\n",
       "      <td>Die Strafe Gottes (Clip): Die Strafe Gottes</td>\n",
       "      <td>HOOK</td>\n",
       "      <td>Samsung CE 2020 Nike-L UHD TV Smart TV</td>\n",
       "      <td>00:00:13</td>\n",
       "      <td>00:00:13</td>\n",
       "      <td>DE (Germany)</td>\n",
       "    </tr>\n",
       "  </tbody>\n",
       "</table>\n",
       "<p>167 rows × 10 columns</p>\n",
       "</div>"
      ],
      "text/plain": [
       "   Profile Name                Start Time        Duration  \\\n",
       "40      Friends 2020-06-06 18:27:04+00:00 0 days 00:46:51   \n",
       "39      Friends 2020-06-06 19:13:59+00:00 0 days 00:39:21   \n",
       "38      Friends 2020-06-08 18:00:17+00:00 0 days 00:49:11   \n",
       "37      Friends 2020-06-08 18:49:32+00:00 0 days 00:49:51   \n",
       "36      Friends 2020-06-08 19:39:27+00:00 0 days 00:00:04   \n",
       "..          ...                       ...             ...   \n",
       "4     Mom & Dad 2022-09-26 18:35:07+00:00 0 days 00:00:13   \n",
       "3     Mom & Dad 2022-09-26 18:35:22+00:00 0 days 01:41:17   \n",
       "2     Mom & Dad 2022-09-27 18:58:40+00:00 0 days 00:00:06   \n",
       "1     Mom & Dad 2022-09-27 19:00:02+00:00 0 days 02:09:10   \n",
       "0     Mom & Dad 2022-09-27 21:16:43+00:00 0 days 00:00:13   \n",
       "\n",
       "                                     Attributes  \\\n",
       "40       Autoplayed: user action: Unspecified;    \n",
       "39              Autoplayed: user action: None;    \n",
       "38       Autoplayed: user action: Unspecified;    \n",
       "37       Autoplayed: user action: Unspecified;    \n",
       "36              Autoplayed: user action: None;    \n",
       "..                                          ...   \n",
       "4               Autoplayed: user action: None;    \n",
       "3                                           NaN   \n",
       "2               Autoplayed: user action: None;    \n",
       "1   Autoplayed: user action: User_Interaction;    \n",
       "0               Autoplayed: user action: None;    \n",
       "\n",
       "                                          Title Supplemental Video Type  \\\n",
       "40   Haus des Geldes: Teil 1: Folge 1 (Folge 1)                     NaN   \n",
       "39   Haus des Geldes: Teil 1: Folge 2 (Folge 2)                     NaN   \n",
       "38   Haus des Geldes: Teil 1: Folge 3 (Folge 3)                     NaN   \n",
       "37   Haus des Geldes: Teil 1: Folge 4 (Folge 4)                     NaN   \n",
       "36   Haus des Geldes: Teil 1: Folge 5 (Folge 5)                     NaN   \n",
       "..                                          ...                     ...   \n",
       "4                             Lou (Clip 5): Lou                    HOOK   \n",
       "3                                           Lou                     NaN   \n",
       "2   A Jazzman's Blues (Clip): A Jazzman's Blues                    HOOK   \n",
       "1         A Beautiful Mind – Genie und Wahnsinn                     NaN   \n",
       "0   Die Strafe Gottes (Clip): Die Strafe Gottes                    HOOK   \n",
       "\n",
       "                                 Device Type  Bookmark Latest Bookmark  \\\n",
       "40  Sony Sony Android TV 2018 M2 4K Smart TV  00:46:51        00:46:51   \n",
       "39  Sony Sony Android TV 2018 M2 4K Smart TV  00:40:37        00:40:37   \n",
       "38  Sony Sony Android TV 2018 M2 4K Smart TV  00:50:00        00:50:00   \n",
       "37  Sony Sony Android TV 2018 M2 4K Smart TV  00:50:45        00:50:45   \n",
       "36  Sony Sony Android TV 2018 M2 4K Smart TV  00:00:10        00:00:10   \n",
       "..                                       ...       ...             ...   \n",
       "4     Samsung CE 2020 Nike-L UHD TV Smart TV  00:00:13        00:00:13   \n",
       "3     Samsung CE 2020 Nike-L UHD TV Smart TV  01:41:19        01:41:19   \n",
       "2     Samsung CE 2020 Nike-L UHD TV Smart TV  00:00:06        00:00:06   \n",
       "1     Samsung CE 2020 Nike-L UHD TV Smart TV  02:09:11        02:09:11   \n",
       "0     Samsung CE 2020 Nike-L UHD TV Smart TV  00:00:13        00:00:13   \n",
       "\n",
       "         Country  \n",
       "40  DE (Germany)  \n",
       "39  DE (Germany)  \n",
       "38  DE (Germany)  \n",
       "37  DE (Germany)  \n",
       "36  DE (Germany)  \n",
       "..           ...  \n",
       "4   DE (Germany)  \n",
       "3   DE (Germany)  \n",
       "2   DE (Germany)  \n",
       "1   DE (Germany)  \n",
       "0   DE (Germany)  \n",
       "\n",
       "[167 rows x 10 columns]"
      ]
     },
     "execution_count": 13,
     "metadata": {},
     "output_type": "execute_result"
    }
   ],
   "source": [
    "df.sort_values('Start Time')"
   ]
  },
  {
   "cell_type": "markdown",
   "id": "249f306f-6332-4650-9818-2dc8bdc02f80",
   "metadata": {},
   "source": [
    "Calculating the total watch time for each profile name."
   ]
  },
  {
   "cell_type": "code",
   "execution_count": 14,
   "id": "8ea4faa9-62e4-440f-a6bf-718a35e790a3",
   "metadata": {},
   "outputs": [
    {
     "data": {
      "text/plain": [
       "Timedelta('0 days 22:51:37')"
      ]
     },
     "execution_count": 14,
     "metadata": {},
     "output_type": "execute_result"
    }
   ],
   "source": [
    "df.loc[df['Profile Name'] == 'Brother & Wife', 'Duration'].sum()"
   ]
  },
  {
   "cell_type": "code",
   "execution_count": 15,
   "id": "20e9940f-457a-428f-ad16-d2210596c59f",
   "metadata": {},
   "outputs": [
    {
     "data": {
      "text/plain": [
       "Timedelta('0 days 11:34:44')"
      ]
     },
     "execution_count": 15,
     "metadata": {},
     "output_type": "execute_result"
    }
   ],
   "source": [
    "df.loc[df['Profile Name'] == 'Code & Dogs', 'Duration'].sum()"
   ]
  },
  {
   "cell_type": "code",
   "execution_count": 16,
   "id": "a6e2d1ab-b8ce-477d-8f5a-ad3520c86a3b",
   "metadata": {},
   "outputs": [
    {
     "data": {
      "text/plain": [
       "Timedelta('0 days 04:53:38')"
      ]
     },
     "execution_count": 16,
     "metadata": {},
     "output_type": "execute_result"
    }
   ],
   "source": [
    "df.loc[df['Profile Name'] == 'Kids', 'Duration'].sum()"
   ]
  },
  {
   "cell_type": "code",
   "execution_count": 17,
   "id": "adab209e-3a3e-4340-b805-84e043b8401d",
   "metadata": {},
   "outputs": [
    {
     "data": {
      "text/plain": [
       "Timedelta('0 days 11:03:42')"
      ]
     },
     "execution_count": 17,
     "metadata": {},
     "output_type": "execute_result"
    }
   ],
   "source": [
    "df.loc[df['Profile Name'] == 'Friends', 'Duration'].sum()"
   ]
  },
  {
   "cell_type": "code",
   "execution_count": 18,
   "id": "bde7adf5-21b7-4e15-b7c7-b2ec3f64a156",
   "metadata": {},
   "outputs": [
    {
     "data": {
      "text/plain": [
       "Timedelta('0 days 03:53:03')"
      ]
     },
     "execution_count": 18,
     "metadata": {},
     "output_type": "execute_result"
    }
   ],
   "source": [
    "df.loc[df['Profile Name'] == 'Mom & Dad', 'Duration'].sum()"
   ]
  },
  {
   "cell_type": "markdown",
   "id": "a7a2297e-af68-43d5-800d-a95be914e68f",
   "metadata": {},
   "source": [
    "Converting the watch time to seconds."
   ]
  },
  {
   "cell_type": "code",
   "execution_count": 19,
   "id": "fbbc0d33-4f6e-4bc5-b4f9-7b0a23c90ace",
   "metadata": {},
   "outputs": [],
   "source": [
    "viewtime = {}\n",
    "viewtime.update({\"Brother & Wife\": df.loc[df['Profile Name']=='Brother & Wife', 'Duration'].astype('timedelta64[s]').sum().seconds})\n",
    "viewtime.update({\"Code & Dogs\": df.loc[df['Profile Name']=='Code & Dogs', 'Duration'].astype('timedelta64[s]').sum().seconds})\n",
    "viewtime.update({\"Kids\": df.loc[df['Profile Name']=='Kids', 'Duration'].astype('timedelta64[s]').sum().seconds})\n",
    "viewtime.update({\"Friends\": df.loc[df['Profile Name']=='Friends', 'Duration'].astype('timedelta64[s]').sum().seconds})\n",
    "viewtime.update({\"Mom & Dad\": df.loc[df['Profile Name']=='Mom & Dad', 'Duration'].astype('timedelta64[s]').sum().seconds})"
   ]
  },
  {
   "cell_type": "code",
   "execution_count": 20,
   "id": "d3dc5e8c-f019-4116-ab79-9166cc689588",
   "metadata": {},
   "outputs": [
    {
     "data": {
      "text/plain": [
       "{'Brother & Wife': 82297,\n",
       " 'Code & Dogs': 41684,\n",
       " 'Kids': 17618,\n",
       " 'Friends': 39822,\n",
       " 'Mom & Dad': 13983}"
      ]
     },
     "execution_count": 20,
     "metadata": {},
     "output_type": "execute_result"
    }
   ],
   "source": [
    "viewtime"
   ]
  },
  {
   "cell_type": "markdown",
   "id": "ef760521-163a-4388-a549-07ad5a6e506d",
   "metadata": {},
   "source": [
    "Plotting a bar chart of the total watch time in seconds for each profile name."
   ]
  },
  {
   "cell_type": "code",
   "execution_count": 21,
   "id": "e650b764-9dfd-46a9-8419-61befa20fe2f",
   "metadata": {
    "scrolled": true
   },
   "outputs": [
    {
     "data": {
      "image/png": "[encoded data removed]",
      "text/plain": [
       "<Figure size 640x480 with 1 Axes>"
      ]
     },
     "metadata": {},
     "output_type": "display_data"
    }
   ],
   "source": [
    "labels, values = zip(*viewtime.items())\n",
    "plt.bar(labels, values)\n",
    "plt.show()"
   ]
  },
  {
   "cell_type": "markdown",
   "id": "35a99bc7-b838-4bf4-b280-7475a8c27b49",
   "metadata": {},
   "source": [
    "Checking the number of entries for each profile name."
   ]
  },
  {
   "cell_type": "code",
   "execution_count": 22,
   "id": "aed31bba-aed1-4371-a111-ab148c976776",
   "metadata": {},
   "outputs": [
    {
     "data": {
      "text/plain": [
       "Profile Name\n",
       "Brother & Wife    55\n",
       "Code & Dogs       40\n",
       "Kids              31\n",
       "Friends           22\n",
       "Mom & Dad         19\n",
       "Name: count, dtype: int64"
      ]
     },
     "execution_count": 22,
     "metadata": {},
     "output_type": "execute_result"
    }
   ],
   "source": [
    "df['Profile Name'].value_counts()"
   ]
  },
  {
   "cell_type": "markdown",
   "id": "5efee06a-13b0-4ef3-a246-3407882e975a",
   "metadata": {},
   "source": [
    "Calculating the average watch time for each profile name."
   ]
  },
  {
   "cell_type": "code",
   "execution_count": 23,
   "id": "5981067e-9dee-4880-ba27-c8fdce6fae1c",
   "metadata": {},
   "outputs": [
    {
     "data": {
      "text/plain": [
       "Profile Name\n",
       "Brother & Wife   0 days 00:24:56\n",
       "Name: count, dtype: timedelta64[s]"
      ]
     },
     "execution_count": 23,
     "metadata": {},
     "output_type": "execute_result"
    }
   ],
   "source": [
    "df.loc[df['Profile Name']=='Brother & Wife', 'Duration'].astype('timedelta64[s]').sum()/df[df['Profile Name']=='Brother & Wife']['Profile Name'].value_counts()"
   ]
  },
  {
   "cell_type": "code",
   "execution_count": 24,
   "id": "e5379e17-6db2-4368-83d1-ce83ca756e60",
   "metadata": {},
   "outputs": [
    {
     "data": {
      "text/plain": [
       "Profile Name\n",
       "Code & Dogs   0 days 00:17:22\n",
       "Name: count, dtype: timedelta64[s]"
      ]
     },
     "execution_count": 24,
     "metadata": {},
     "output_type": "execute_result"
    }
   ],
   "source": [
    "df.loc[df['Profile Name']=='Code & Dogs', 'Duration'].astype('timedelta64[s]').sum()/df[df['Profile Name']=='Code & Dogs']['Profile Name'].value_counts()"
   ]
  },
  {
   "cell_type": "code",
   "execution_count": 25,
   "id": "7c00d4a2-8555-4685-a390-52cd3da63ae9",
   "metadata": {},
   "outputs": [
    {
     "data": {
      "text/plain": [
       "Profile Name\n",
       "Kids   0 days 00:09:28\n",
       "Name: count, dtype: timedelta64[s]"
      ]
     },
     "execution_count": 25,
     "metadata": {},
     "output_type": "execute_result"
    }
   ],
   "source": [
    "df.loc[df['Profile Name']=='Kids', 'Duration'].astype('timedelta64[s]').sum()/df[df['Profile Name']=='Kids']['Profile Name'].value_counts()"
   ]
  },
  {
   "cell_type": "code",
   "execution_count": 26,
   "id": "8397f8a4-28a6-4cd6-9228-3f6741ad4843",
   "metadata": {},
   "outputs": [
    {
     "data": {
      "text/plain": [
       "Profile Name\n",
       "Friends   0 days 00:30:10\n",
       "Name: count, dtype: timedelta64[s]"
      ]
     },
     "execution_count": 26,
     "metadata": {},
     "output_type": "execute_result"
    }
   ],
   "source": [
    "df.loc[df['Profile Name']=='Friends', 'Duration'].astype('timedelta64[s]').sum()/df[df['Profile Name']=='Friends']['Profile Name'].value_counts()"
   ]
  },
  {
   "cell_type": "code",
   "execution_count": 27,
   "id": "ea5a8045-e36f-4405-82f4-e4e38e4f6f06",
   "metadata": {},
   "outputs": [
    {
     "data": {
      "text/plain": [
       "Profile Name\n",
       "Mom & Dad   0 days 00:12:15\n",
       "Name: count, dtype: timedelta64[s]"
      ]
     },
     "execution_count": 27,
     "metadata": {},
     "output_type": "execute_result"
    }
   ],
   "source": [
    "df.loc[df['Profile Name']=='Mom & Dad', 'Duration'].astype('timedelta64[s]').sum()/df[df['Profile Name']=='Mom & Dad']['Profile Name'].value_counts()"
   ]
  },
  {
   "cell_type": "markdown",
   "id": "9be1ca65-8067-4ad1-abe5-149e4fa4df55",
   "metadata": {},
   "source": [
    "The average watch time per profile name seems surprisingly short (usually <30 min). However, when we take into consideration the outlier entries (<15 sec), this does not appear surprising anymore."
   ]
  },
  {
   "cell_type": "markdown",
   "id": "028865b0-2d92-40bb-9d67-2cac2d24eebf",
   "metadata": {},
   "source": [
    "Let's look at the Supplemental Video Type column and see what short interactions we can filter out."
   ]
  },
  {
   "cell_type": "code",
   "execution_count": 28,
   "id": "9cd4328a-e024-4b39-832a-d5ffad9b8087",
   "metadata": {},
   "outputs": [
    {
     "data": {
      "text/plain": [
       "Supplemental Video Type\n",
       "HOOK              24\n",
       "TRAILER           16\n",
       "TEASER_TRAILER     4\n",
       "Name: count, dtype: int64"
      ]
     },
     "execution_count": 28,
     "metadata": {},
     "output_type": "execute_result"
    }
   ],
   "source": [
    "df['Supplemental Video Type'].value_counts()"
   ]
  },
  {
   "cell_type": "markdown",
   "id": "4fa26869-516f-4f7b-a259-c0f29c652294",
   "metadata": {},
   "source": [
    "It seems that we have 44 short interactions that we can filter out. The rest of the rows are empty, meaning that an actual show was watched."
   ]
  },
  {
   "cell_type": "code",
   "execution_count": 29,
   "id": "a1d76047-3a53-4810-a559-84de124afa26",
   "metadata": {},
   "outputs": [
    {
     "data": {
      "text/html": [
       "<div>\n",
       "<style scoped>\n",
       "    .dataframe tbody tr th:only-of-type {\n",
       "        vertical-align: middle;\n",
       "    }\n",
       "\n",
       "    .dataframe tbody tr th {\n",
       "        vertical-align: top;\n",
       "    }\n",
       "\n",
       "    .dataframe thead th {\n",
       "        text-align: right;\n",
       "    }\n",
       "</style>\n",
       "<table border=\"1\" class=\"dataframe\">\n",
       "  <thead>\n",
       "    <tr style=\"text-align: right;\">\n",
       "      <th></th>\n",
       "      <th>Profile Name</th>\n",
       "      <th>Start Time</th>\n",
       "      <th>Duration</th>\n",
       "      <th>Attributes</th>\n",
       "      <th>Title</th>\n",
       "      <th>Supplemental Video Type</th>\n",
       "      <th>Device Type</th>\n",
       "      <th>Bookmark</th>\n",
       "      <th>Latest Bookmark</th>\n",
       "      <th>Country</th>\n",
       "    </tr>\n",
       "  </thead>\n",
       "  <tbody>\n",
       "    <tr>\n",
       "      <th>1</th>\n",
       "      <td>Mom &amp; Dad</td>\n",
       "      <td>2022-09-27 19:00:02+00:00</td>\n",
       "      <td>0 days 02:09:10</td>\n",
       "      <td>Autoplayed: user action: User_Interaction;</td>\n",
       "      <td>A Beautiful Mind – Genie und Wahnsinn</td>\n",
       "      <td>NaN</td>\n",
       "      <td>Samsung CE 2020 Nike-L UHD TV Smart TV</td>\n",
       "      <td>02:09:11</td>\n",
       "      <td>02:09:11</td>\n",
       "      <td>DE (Germany)</td>\n",
       "    </tr>\n",
       "    <tr>\n",
       "      <th>3</th>\n",
       "      <td>Mom &amp; Dad</td>\n",
       "      <td>2022-09-26 18:35:22+00:00</td>\n",
       "      <td>0 days 01:41:17</td>\n",
       "      <td>NaN</td>\n",
       "      <td>Lou</td>\n",
       "      <td>NaN</td>\n",
       "      <td>Samsung CE 2020 Nike-L UHD TV Smart TV</td>\n",
       "      <td>01:41:19</td>\n",
       "      <td>01:41:19</td>\n",
       "      <td>DE (Germany)</td>\n",
       "    </tr>\n",
       "    <tr>\n",
       "      <th>12</th>\n",
       "      <td>Mom &amp; Dad</td>\n",
       "      <td>2022-09-26 17:31:38+00:00</td>\n",
       "      <td>0 days 00:00:01</td>\n",
       "      <td>Autoplayed: user action: None;</td>\n",
       "      <td>Mucize – Wunder</td>\n",
       "      <td>NaN</td>\n",
       "      <td>FireTV 4K Stick 2018</td>\n",
       "      <td>00:00:01</td>\n",
       "      <td>00:00:01</td>\n",
       "      <td>DE (Germany)</td>\n",
       "    </tr>\n",
       "    <tr>\n",
       "      <th>17</th>\n",
       "      <td>Mom &amp; Dad</td>\n",
       "      <td>2022-09-26 17:30:12+00:00</td>\n",
       "      <td>0 days 00:00:02</td>\n",
       "      <td>Autoplayed: user action: None;</td>\n",
       "      <td>Das perfekte Verbrechen</td>\n",
       "      <td>NaN</td>\n",
       "      <td>FireTV 4K Stick 2018</td>\n",
       "      <td>00:00:02</td>\n",
       "      <td>00:00:02</td>\n",
       "      <td>DE (Germany)</td>\n",
       "    </tr>\n",
       "    <tr>\n",
       "      <th>21</th>\n",
       "      <td>Friends</td>\n",
       "      <td>2022-02-24 20:55:12+00:00</td>\n",
       "      <td>0 days 00:41:49</td>\n",
       "      <td>NaN</td>\n",
       "      <td>Kitz: Season 1: Aus der Spur (Folge 3)</td>\n",
       "      <td>NaN</td>\n",
       "      <td>Sky UK IP100 MVPD STB</td>\n",
       "      <td>00:41:54</td>\n",
       "      <td>00:41:54</td>\n",
       "      <td>DE (Germany)</td>\n",
       "    </tr>\n",
       "    <tr>\n",
       "      <th>...</th>\n",
       "      <td>...</td>\n",
       "      <td>...</td>\n",
       "      <td>...</td>\n",
       "      <td>...</td>\n",
       "      <td>...</td>\n",
       "      <td>...</td>\n",
       "      <td>...</td>\n",
       "      <td>...</td>\n",
       "      <td>...</td>\n",
       "      <td>...</td>\n",
       "    </tr>\n",
       "    <tr>\n",
       "      <th>162</th>\n",
       "      <td>Brother &amp; Wife</td>\n",
       "      <td>2022-01-28 10:58:12+00:00</td>\n",
       "      <td>0 days 00:44:41</td>\n",
       "      <td>Autoplayed: user action: User_Interaction;</td>\n",
       "      <td>The Witcher: Staffel 1: Vor dem Fall (Folge 7)</td>\n",
       "      <td>NaN</td>\n",
       "      <td>Samsung CE 2019 Muse-L UHD TV Smart TV</td>\n",
       "      <td>00:44:47</td>\n",
       "      <td>00:44:47</td>\n",
       "      <td>DE (Germany)</td>\n",
       "    </tr>\n",
       "    <tr>\n",
       "      <th>163</th>\n",
       "      <td>Brother &amp; Wife</td>\n",
       "      <td>2022-01-28 10:55:47+00:00</td>\n",
       "      <td>0 days 00:02:22</td>\n",
       "      <td>Autoplayed: user action: User_Interaction;</td>\n",
       "      <td>The Witcher: Staffel 1: Seltene Arten (Folge 6)</td>\n",
       "      <td>NaN</td>\n",
       "      <td>Samsung CE 2019 Muse-L UHD TV Smart TV</td>\n",
       "      <td>00:57:08</td>\n",
       "      <td>00:57:08</td>\n",
       "      <td>DE (Germany)</td>\n",
       "    </tr>\n",
       "    <tr>\n",
       "      <th>164</th>\n",
       "      <td>Brother &amp; Wife</td>\n",
       "      <td>2022-01-28 07:24:09+00:00</td>\n",
       "      <td>0 days 00:54:47</td>\n",
       "      <td>Autoplayed: user action: User_Interaction;</td>\n",
       "      <td>The Witcher: Staffel 1: Seltene Arten (Folge 6)</td>\n",
       "      <td>NaN</td>\n",
       "      <td>Samsung CE 2019 Muse-L UHD TV Smart TV</td>\n",
       "      <td>00:54:47</td>\n",
       "      <td>Not latest view</td>\n",
       "      <td>DE (Germany)</td>\n",
       "    </tr>\n",
       "    <tr>\n",
       "      <th>165</th>\n",
       "      <td>Brother &amp; Wife</td>\n",
       "      <td>2022-01-27 22:18:47+00:00</td>\n",
       "      <td>0 days 00:56:28</td>\n",
       "      <td>NaN</td>\n",
       "      <td>The Witcher: Staffel 1: Aufgestaute Begehren (...</td>\n",
       "      <td>NaN</td>\n",
       "      <td>Samsung CE 2019 Muse-L UHD TV Smart TV</td>\n",
       "      <td>00:56:36</td>\n",
       "      <td>00:56:36</td>\n",
       "      <td>DE (Germany)</td>\n",
       "    </tr>\n",
       "    <tr>\n",
       "      <th>166</th>\n",
       "      <td>Brother &amp; Wife</td>\n",
       "      <td>2022-01-27 21:08:23+00:00</td>\n",
       "      <td>0 days 00:59:32</td>\n",
       "      <td>Autoplayed: user action: User_Interaction;</td>\n",
       "      <td>The Witcher: Staffel 1: Bankette, Bastarde und...</td>\n",
       "      <td>NaN</td>\n",
       "      <td>Samsung CE 2019 Muse-L UHD TV Smart TV</td>\n",
       "      <td>00:59:39</td>\n",
       "      <td>00:59:39</td>\n",
       "      <td>DE (Germany)</td>\n",
       "    </tr>\n",
       "  </tbody>\n",
       "</table>\n",
       "<p>123 rows × 10 columns</p>\n",
       "</div>"
      ],
      "text/plain": [
       "       Profile Name                Start Time        Duration  \\\n",
       "1         Mom & Dad 2022-09-27 19:00:02+00:00 0 days 02:09:10   \n",
       "3         Mom & Dad 2022-09-26 18:35:22+00:00 0 days 01:41:17   \n",
       "12        Mom & Dad 2022-09-26 17:31:38+00:00 0 days 00:00:01   \n",
       "17        Mom & Dad 2022-09-26 17:30:12+00:00 0 days 00:00:02   \n",
       "21          Friends 2022-02-24 20:55:12+00:00 0 days 00:41:49   \n",
       "..              ...                       ...             ...   \n",
       "162  Brother & Wife 2022-01-28 10:58:12+00:00 0 days 00:44:41   \n",
       "163  Brother & Wife 2022-01-28 10:55:47+00:00 0 days 00:02:22   \n",
       "164  Brother & Wife 2022-01-28 07:24:09+00:00 0 days 00:54:47   \n",
       "165  Brother & Wife 2022-01-27 22:18:47+00:00 0 days 00:56:28   \n",
       "166  Brother & Wife 2022-01-27 21:08:23+00:00 0 days 00:59:32   \n",
       "\n",
       "                                      Attributes  \\\n",
       "1    Autoplayed: user action: User_Interaction;    \n",
       "3                                            NaN   \n",
       "12               Autoplayed: user action: None;    \n",
       "17               Autoplayed: user action: None;    \n",
       "21                                           NaN   \n",
       "..                                           ...   \n",
       "162  Autoplayed: user action: User_Interaction;    \n",
       "163  Autoplayed: user action: User_Interaction;    \n",
       "164  Autoplayed: user action: User_Interaction;    \n",
       "165                                          NaN   \n",
       "166  Autoplayed: user action: User_Interaction;    \n",
       "\n",
       "                                                 Title  \\\n",
       "1                A Beautiful Mind – Genie und Wahnsinn   \n",
       "3                                                  Lou   \n",
       "12                                     Mucize – Wunder   \n",
       "17                             Das perfekte Verbrechen   \n",
       "21              Kitz: Season 1: Aus der Spur (Folge 3)   \n",
       "..                                                 ...   \n",
       "162     The Witcher: Staffel 1: Vor dem Fall (Folge 7)   \n",
       "163    The Witcher: Staffel 1: Seltene Arten (Folge 6)   \n",
       "164    The Witcher: Staffel 1: Seltene Arten (Folge 6)   \n",
       "165  The Witcher: Staffel 1: Aufgestaute Begehren (...   \n",
       "166  The Witcher: Staffel 1: Bankette, Bastarde und...   \n",
       "\n",
       "    Supplemental Video Type                             Device Type  Bookmark  \\\n",
       "1                       NaN  Samsung CE 2020 Nike-L UHD TV Smart TV  02:09:11   \n",
       "3                       NaN  Samsung CE 2020 Nike-L UHD TV Smart TV  01:41:19   \n",
       "12                      NaN                    FireTV 4K Stick 2018  00:00:01   \n",
       "17                      NaN                    FireTV 4K Stick 2018  00:00:02   \n",
       "21                      NaN                   Sky UK IP100 MVPD STB  00:41:54   \n",
       "..                      ...                                     ...       ...   \n",
       "162                     NaN  Samsung CE 2019 Muse-L UHD TV Smart TV  00:44:47   \n",
       "163                     NaN  Samsung CE 2019 Muse-L UHD TV Smart TV  00:57:08   \n",
       "164                     NaN  Samsung CE 2019 Muse-L UHD TV Smart TV  00:54:47   \n",
       "165                     NaN  Samsung CE 2019 Muse-L UHD TV Smart TV  00:56:36   \n",
       "166                     NaN  Samsung CE 2019 Muse-L UHD TV Smart TV  00:59:39   \n",
       "\n",
       "     Latest Bookmark       Country  \n",
       "1           02:09:11  DE (Germany)  \n",
       "3           01:41:19  DE (Germany)  \n",
       "12          00:00:01  DE (Germany)  \n",
       "17          00:00:02  DE (Germany)  \n",
       "21          00:41:54  DE (Germany)  \n",
       "..               ...           ...  \n",
       "162         00:44:47  DE (Germany)  \n",
       "163         00:57:08  DE (Germany)  \n",
       "164  Not latest view  DE (Germany)  \n",
       "165         00:56:36  DE (Germany)  \n",
       "166         00:59:39  DE (Germany)  \n",
       "\n",
       "[123 rows x 10 columns]"
      ]
     },
     "execution_count": 29,
     "metadata": {},
     "output_type": "execute_result"
    }
   ],
   "source": [
    "df.loc[df['Supplemental Video Type'].isnull()]"
   ]
  },
  {
   "cell_type": "code",
   "execution_count": 42,
   "id": "22d036e5-6e9f-48fe-8d24-eb74c70ab476",
   "metadata": {},
   "outputs": [
    {
     "data": {
      "text/plain": [
       "Profile Name\n",
       "Brother & Wife   0 days 00:31:42\n",
       "Name: count, dtype: timedelta64[s]"
      ]
     },
     "execution_count": 42,
     "metadata": {},
     "output_type": "execute_result"
    }
   ],
   "source": [
    "df.loc[(df['Profile Name']=='Brother & Wife') & (df['Supplemental Video Type'].isnull()), 'Duration'].astype('timedelta64[s]').sum()/df[(df['Profile Name']=='Brother & Wife') & (df['Supplemental Video Type'].isnull())]['Profile Name'].value_counts()"
   ]
  },
  {
   "cell_type": "code",
   "execution_count": 41,
   "id": "fe6fce65-76b2-4a4d-aa17-e30731e3ad58",
   "metadata": {},
   "outputs": [
    {
     "data": {
      "text/plain": [
       "Profile Name\n",
       "Code & Dogs   0 days 00:23:51\n",
       "Name: count, dtype: timedelta64[s]"
      ]
     },
     "execution_count": 41,
     "metadata": {},
     "output_type": "execute_result"
    }
   ],
   "source": [
    "df.loc[(df['Profile Name']=='Code & Dogs') & (df['Supplemental Video Type'].isnull()), 'Duration'].astype('timedelta64[s]').sum()/df[(df['Profile Name']=='Code & Dogs') & (df['Supplemental Video Type'].isnull())]['Profile Name'].value_counts()"
   ]
  },
  {
   "cell_type": "code",
   "execution_count": 40,
   "id": "0a4007be-5886-41e9-ba06-b0db8165fb56",
   "metadata": {},
   "outputs": [
    {
     "data": {
      "text/plain": [
       "Profile Name\n",
       "Kids   0 days 00:10:07\n",
       "Name: count, dtype: timedelta64[s]"
      ]
     },
     "execution_count": 40,
     "metadata": {},
     "output_type": "execute_result"
    }
   ],
   "source": [
    "df.loc[(df['Profile Name']=='Kids') & (df['Supplemental Video Type'].isnull()), 'Duration'].astype('timedelta64[s]').sum()/df[(df['Profile Name']=='Kids') & (df['Supplemental Video Type'].isnull())]['Profile Name'].value_counts()"
   ]
  },
  {
   "cell_type": "code",
   "execution_count": 39,
   "id": "21f2b917-6d4f-41db-a360-128637915257",
   "metadata": {},
   "outputs": [
    {
     "data": {
      "text/plain": [
       "Profile Name\n",
       "Friends   0 days 00:36:50\n",
       "Name: count, dtype: timedelta64[s]"
      ]
     },
     "execution_count": 39,
     "metadata": {},
     "output_type": "execute_result"
    }
   ],
   "source": [
    "df.loc[(df['Profile Name']=='Friends') & (df['Supplemental Video Type'].isnull()), 'Duration'].astype('timedelta64[s]').sum()/df[(df['Profile Name']=='Friends') & (df['Supplemental Video Type'].isnull())]['Profile Name'].value_counts()"
   ]
  },
  {
   "cell_type": "code",
   "execution_count": 38,
   "id": "c81361b8-effe-43a8-b5dc-19e25d9c6055",
   "metadata": {},
   "outputs": [
    {
     "data": {
      "text/plain": [
       "Profile Name\n",
       "Mom & Dad   0 days 00:57:37\n",
       "Name: count, dtype: timedelta64[s]"
      ]
     },
     "execution_count": 38,
     "metadata": {},
     "output_type": "execute_result"
    }
   ],
   "source": [
    "df.loc[(df['Profile Name']=='Mom & Dad') & (df['Supplemental Video Type'].isnull()), 'Duration'].astype('timedelta64[s]').sum()/df[(df['Profile Name']=='Mom & Dad') & (df['Supplemental Video Type'].isnull())]['Profile Name'].value_counts()"
   ]
  },
  {
   "cell_type": "markdown",
   "id": "d1930e9f-91f0-424c-a535-0d330a0dd930",
   "metadata": {},
   "source": [
    "We can conclude that the average view time has slightly increased for some profile names while it has greatly increased for other profile names (Mom & Dad) after we removed the irrelevant rows."
   ]
  },
  {
   "cell_type": "markdown",
   "id": "7dca4711-3cc4-400e-a9ee-8ce3e091a434",
   "metadata": {},
   "source": [
    "Next, we are going to check what devices are used by each profile. Some devices have only been used once while some might have been used for a long time."
   ]
  },
  {
   "cell_type": "code",
   "execution_count": 44,
   "id": "f9007ee8-f44d-4d3d-a009-a52ce0d1a1b9",
   "metadata": {},
   "outputs": [
    {
     "data": {
      "text/plain": [
       "Device Type\n",
       "Samsung CE 2019 Muse-L UHD TV Smart TV              63\n",
       "FireTV 4K Stick 2018                                35\n",
       "Apple iPad Pro 12.9 in 5th Gen (Wi-Fi/Cell) iPad    19\n",
       "Sony Sony Android TV 2015 Smart TV                  16\n",
       "Sky UK skyamidalade MVPD STB                         8\n",
       "Sony Sony Android TV 2018 M2 4K Smart TV             7\n",
       "Sony CE Sony Android TV 2020 M5 Smart TV             7\n",
       "Sky UK IP100 MVPD STB                                6\n",
       "Samsung CE 2020 Nike-L UHD TV Smart TV               5\n",
       "FireTV Stick 2016                                    1\n",
       "Name: count, dtype: int64"
      ]
     },
     "execution_count": 44,
     "metadata": {},
     "output_type": "execute_result"
    }
   ],
   "source": [
    "df['Device Type'].value_counts()"
   ]
  },
  {
   "cell_type": "markdown",
   "id": "6444e952-ab1a-4edf-85a5-1db1b5541d53",
   "metadata": {},
   "source": [
    "Next we can plot this into a bar chart for a better view."
   ]
  },
  {
   "cell_type": "code",
   "execution_count": 46,
   "id": "c7ede2a6-1618-44c7-9aef-9f8823b78de4",
   "metadata": {},
   "outputs": [
    {
     "data": {
      "image/png": "[encoded data removed]",
      "text/plain": [
       "<Figure size 640x480 with 1 Axes>"
      ]
     },
     "metadata": {},
     "output_type": "display_data"
    }
   ],
   "source": [
    "df['Device Type'].value_counts().plot(kind='bar')\n",
    "plt.show()"
   ]
  },
  {
   "cell_type": "markdown",
   "id": "1199ac81-1dad-4a5d-a311-097bb544f597",
   "metadata": {},
   "source": [
    "Next we can filter and plot for a specific profile."
   ]
  },
  {
   "cell_type": "code",
   "execution_count": 51,
   "id": "5bacd520-2da2-44d2-9852-c754916bc535",
   "metadata": {},
   "outputs": [
    {
     "data": {
      "image/png": "[encoded data removed]",
      "text/plain": [
       "<Figure size 640x480 with 1 Axes>"
      ]
     },
     "metadata": {},
     "output_type": "display_data"
    }
   ],
   "source": [
    "df.loc[df['Profile Name'] == 'Code & Dogs', 'Device Type'].value_counts().plot(kind='bar')\n",
    "plt.show()"
   ]
  },
  {
   "cell_type": "code",
   "execution_count": null,
   "id": "9324c870-ba48-43f8-87bf-31fe5dda1b21",
   "metadata": {},
   "outputs": [],
   "source": []
  }
 ],
 "metadata": {
  "kernelspec": {
   "display_name": "Python 3 (ipykernel)",
   "language": "python",
   "name": "python3"
  },
  "language_info": {
   "codemirror_mode": {
    "name": "ipython",
    "version": 3
   },
   "file_extension": ".py",
   "mimetype": "text/x-python",
   "name": "python",
   "nbconvert_exporter": "python",
   "pygments_lexer": "ipython3",
   "version": "3.11.0"
  }
 },
 "nbformat": 4,
 "nbformat_minor": 5
}
